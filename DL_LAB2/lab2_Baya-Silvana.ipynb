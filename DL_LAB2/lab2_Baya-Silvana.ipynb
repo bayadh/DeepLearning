{
 "cells": [
  {
   "cell_type": "markdown",
   "metadata": {},
   "source": [
    "<h1 style=\"text-align:center\">Deep Learning   </h1>\n",
    "<h1 style=\"text-align:center\"> Lab Session 2 - 1.5 Hours </h1>\n",
    "<h1 style=\"text-align:center\"> Convolutional Neural Network (CNN) for Handwritten Digits Recognition</h1>"
   ]
  },
  {
   "cell_type": "markdown",
   "metadata": {},
   "source": [
    "The aim of this session is to practice with Convolutional Neural Networks. Each group should fill and run appropriate notebook cells. \n",
    "\n",
    "Follow instructions step by step until the end and submit your complete notebook as an archive (tar -cf groupXnotebook.tar DL_lab2/).\n",
    "\n",
    "Do not forget to run all your cells before generating your final report and do not forget to include the names of all participants in the group. The lab session should be completed by May 29th 2019 (23:59:59 CET)."
   ]
  },
  {
   "cell_type": "markdown",
   "metadata": {},
   "source": [
    "# Introduction"
   ]
  },
  {
   "cell_type": "markdown",
   "metadata": {},
   "source": [
    "In the last Lab Session, you built a Multilayer Perceptron for recognizing hand-written digits from the MNIST data-set. The best achieved accuracy on testing data was about 97%.  Can  you do better than these results using a deep CNN ?\n",
    "In this Lab Session, you will build, train and optimize in TensorFlow one of the early Convolutional Neural Networks,  **LeNet-5**, to go to  more than 99% of accuracy. \n",
    "\n",
    "\n",
    "\n",
    "\n"
   ]
  },
  {
   "cell_type": "markdown",
   "metadata": {},
   "source": [
    "# Load MNIST Data in TensorFlow\n",
    "Run the cell below to load the MNIST data that comes with TensorFlow. You will use this data in **Section 1** and **Section 2**."
   ]
  },
  {
   "cell_type": "code",
   "execution_count": 1,
   "metadata": {},
   "outputs": [
    {
     "name": "stdout",
     "output_type": "stream",
     "text": [
      "WARNING:tensorflow:From <ipython-input-1-b2ec3f3f49c2>:5: read_data_sets (from tensorflow.contrib.learn.python.learn.datasets.mnist) is deprecated and will be removed in a future version.\n",
      "Instructions for updating:\n",
      "Please use alternatives such as official/mnist/dataset.py from tensorflow/models.\n",
      "WARNING:tensorflow:From /usr/local/lib/python3.5/dist-packages/tensorflow/contrib/learn/python/learn/datasets/mnist.py:260: maybe_download (from tensorflow.contrib.learn.python.learn.datasets.base) is deprecated and will be removed in a future version.\n",
      "Instructions for updating:\n",
      "Please write your own downloading logic.\n",
      "WARNING:tensorflow:From /usr/local/lib/python3.5/dist-packages/tensorflow/contrib/learn/python/learn/datasets/mnist.py:262: extract_images (from tensorflow.contrib.learn.python.learn.datasets.mnist) is deprecated and will be removed in a future version.\n",
      "Instructions for updating:\n",
      "Please use tf.data to implement this functionality.\n",
      "Extracting MNIST_data/train-images-idx3-ubyte.gz\n",
      "WARNING:tensorflow:From /usr/local/lib/python3.5/dist-packages/tensorflow/contrib/learn/python/learn/datasets/mnist.py:267: extract_labels (from tensorflow.contrib.learn.python.learn.datasets.mnist) is deprecated and will be removed in a future version.\n",
      "Instructions for updating:\n",
      "Please use tf.data to implement this functionality.\n",
      "Extracting MNIST_data/train-labels-idx1-ubyte.gz\n",
      "WARNING:tensorflow:From /usr/local/lib/python3.5/dist-packages/tensorflow/contrib/learn/python/learn/datasets/mnist.py:110: dense_to_one_hot (from tensorflow.contrib.learn.python.learn.datasets.mnist) is deprecated and will be removed in a future version.\n",
      "Instructions for updating:\n",
      "Please use tf.one_hot on tensors.\n",
      "Extracting MNIST_data/t10k-images-idx3-ubyte.gz\n",
      "Extracting MNIST_data/t10k-labels-idx1-ubyte.gz\n",
      "WARNING:tensorflow:From /usr/local/lib/python3.5/dist-packages/tensorflow/contrib/learn/python/learn/datasets/mnist.py:290: DataSet.__init__ (from tensorflow.contrib.learn.python.learn.datasets.mnist) is deprecated and will be removed in a future version.\n",
      "Instructions for updating:\n",
      "Please use alternatives such as official/mnist/dataset.py from tensorflow/models.\n",
      "Image Shape: (784,)\n",
      "Training Set:   55000 samples\n",
      "Validation Set: 5000 samples\n",
      "Test Set:       10000 samples\n"
     ]
    }
   ],
   "source": [
    "import tensorflow as tf\n",
    "import numpy as np\n",
    "from tensorflow.contrib.layers import flatten\n",
    "from tensorflow.examples.tutorials.mnist import input_data\n",
    "mnist = input_data.read_data_sets(\"MNIST_data/\", one_hot=True)\n",
    "X_train, y_train           = mnist.train.images, mnist.train.labels\n",
    "X_validation, y_validation = mnist.validation.images, mnist.validation.labels\n",
    "X_test, y_test             = mnist.test.images, mnist.test.labels\n",
    "print(\"Image Shape: {}\".format(X_train[0].shape))\n",
    "print(\"Training Set:   {} samples\".format(len(X_train)))\n",
    "print(\"Validation Set: {} samples\".format(len(X_validation)))\n",
    "print(\"Test Set:       {} samples\".format(len(X_test)))\n",
    "\n",
    "epsilon = 1e-10 # this is a parameter you will use later"
   ]
  },
  {
   "cell_type": "markdown",
   "metadata": {},
   "source": [
    "# Section 1 : My First Model in TensorFlow"
   ]
  },
  {
   "cell_type": "markdown",
   "metadata": {},
   "source": [
    "Before starting with CNN, let's train and test in TensorFlow the example\n",
    "**y=softmax(Wx+b)** seen in the first lab. \n",
    "\n",
    "This model reaches an accuracy of about 92 %.\n",
    "You will also learn how to launch the TensorBoard https://www.tensorflow.org/get_started/summaries_and_tensorboard to visualize the computation graph, statistics and learning curves. "
   ]
  },
  {
   "cell_type": "markdown",
   "metadata": {},
   "source": [
    "<b> Part 1 </b> : Read carefully the code in the cell below. Run it to perform training. "
   ]
  },
  {
   "cell_type": "code",
   "execution_count": 2,
   "metadata": {},
   "outputs": [
    {
     "name": "stdout",
     "output_type": "stream",
     "text": [
      "Epoch:  01   =====> Loss= 1.289075496\n",
      "Epoch:  02   =====> Loss= 0.732772976\n",
      "Epoch:  03   =====> Loss= 0.600493635\n",
      "Epoch:  04   =====> Loss= 0.536569137\n",
      "Epoch:  05   =====> Loss= 0.497915017\n",
      "Epoch:  06   =====> Loss= 0.471137127\n",
      "Epoch:  07   =====> Loss= 0.451497282\n",
      "Epoch:  08   =====> Loss= 0.435659541\n",
      "Epoch:  09   =====> Loss= 0.423468368\n",
      "Epoch:  10   =====> Loss= 0.413297223\n",
      "Epoch:  11   =====> Loss= 0.404200772\n",
      "Epoch:  12   =====> Loss= 0.396597400\n",
      "Epoch:  13   =====> Loss= 0.390212909\n",
      "Epoch:  14   =====> Loss= 0.384446583\n",
      "Epoch:  15   =====> Loss= 0.379382839\n",
      "Epoch:  16   =====> Loss= 0.374561733\n",
      "Epoch:  17   =====> Loss= 0.370195697\n",
      "Epoch:  18   =====> Loss= 0.366345226\n",
      "Epoch:  19   =====> Loss= 0.362872024\n",
      "Epoch:  20   =====> Loss= 0.359495350\n",
      "Epoch:  21   =====> Loss= 0.356628603\n",
      "Epoch:  22   =====> Loss= 0.353785908\n",
      "Epoch:  23   =====> Loss= 0.351137313\n",
      "Epoch:  24   =====> Loss= 0.348836233\n",
      "Epoch:  25   =====> Loss= 0.346419177\n",
      "Epoch:  26   =====> Loss= 0.344511320\n",
      "Epoch:  27   =====> Loss= 0.342083188\n",
      "Epoch:  28   =====> Loss= 0.340545922\n",
      "Epoch:  29   =====> Loss= 0.338587815\n",
      "Epoch:  30   =====> Loss= 0.336783035\n",
      "Epoch:  31   =====> Loss= 0.335172187\n",
      "Epoch:  32   =====> Loss= 0.333513004\n",
      "Epoch:  33   =====> Loss= 0.332016851\n",
      "Epoch:  34   =====> Loss= 0.330610320\n",
      "Epoch:  35   =====> Loss= 0.329383500\n",
      "Epoch:  36   =====> Loss= 0.328098118\n",
      "Epoch:  37   =====> Loss= 0.326739914\n",
      "Epoch:  38   =====> Loss= 0.325157188\n",
      "Epoch:  39   =====> Loss= 0.324161991\n",
      "Epoch:  40   =====> Loss= 0.323142484\n",
      "Optimization Finished!\n",
      "Accuracy: 0.9158\n"
     ]
    }
   ],
   "source": [
    "#STEP 1\n",
    "\n",
    "# Parameters\n",
    "learning_rate = 0.01\n",
    "training_epochs = 40\n",
    "batch_size = 128\n",
    "display_step = 1\n",
    "logs_path = 'log_files/'  # useful for tensorboard\n",
    "\n",
    "# tf Graph Input:  mnist data image of shape 28*28=784\n",
    "x = tf.placeholder(tf.float32, [None, 784], name='InputData')\n",
    "# 0-9 digits recognition,  10 classes\n",
    "y = tf.placeholder(tf.float32, [None, 10], name='LabelData')\n",
    "\n",
    "# Set model weights\n",
    "W = tf.Variable(tf.zeros([784, 10]), name='Weights')\n",
    "b = tf.Variable(tf.zeros([10]), name='Bias')\n",
    "\n",
    "# Construct model and encapsulating all ops into scopes, making Tensorboard's Graph visualization more convenient\n",
    "with tf.name_scope('Model'):\n",
    "    # Model\n",
    "    pred = tf.nn.softmax(tf.matmul(x, W) + b) # Softmax\n",
    "with tf.name_scope('Loss'):\n",
    "    # Minimize error using cross entropy\n",
    "    # We use tf.clip_by_value to avoid having too low numbers in the log function\n",
    "    cost = tf.reduce_mean(-tf.reduce_sum(y*tf.log(tf.clip_by_value(pred, epsilon, 1.0)), reduction_indices=1))\n",
    "with tf.name_scope('SGD'):\n",
    "    # Gradient Descent\n",
    "    optimizer = tf.train.GradientDescentOptimizer(learning_rate).minimize(cost)\n",
    "with tf.name_scope('Accuracy'):\n",
    "    # Accuracy\n",
    "    acc = tf.equal(tf.argmax(pred, 1), tf.argmax(y, 1))\n",
    "    acc = tf.reduce_mean(tf.cast(acc, tf.float32))\n",
    "\n",
    "# Initializing the variables\n",
    "init = tf.global_variables_initializer()\n",
    "# Create a summary to monitor cost tensor\n",
    "tf.summary.scalar(\"Loss\", cost)\n",
    "# Create a summary to monitor accuracy tensor\n",
    "tf.summary.scalar(\"Accuracy\", acc)\n",
    "# Merge all summaries into a single op\n",
    "merged_summary_op = tf.summary.merge_all()\n",
    "\n",
    "#STEP 2 \n",
    "\n",
    "# Launch the graph for training\n",
    "with tf.Session() as sess:\n",
    "    sess.run(init)\n",
    "    # op to write logs to Tensorboard\n",
    "    summary_writer = tf.summary.FileWriter(logs_path, graph=tf.get_default_graph())\n",
    "    # Training cycle\n",
    "    for epoch in range(training_epochs):\n",
    "        avg_cost = 0.\n",
    "        total_batch = int(mnist.train.num_examples/batch_size)\n",
    "        # Loop over all batches\n",
    "        for i in range(total_batch):\n",
    "            batch_xs, batch_ys = mnist.train.next_batch(batch_size, shuffle=(i==0))\n",
    "            # Run optimization op (backprop), cost op (to get loss value)\n",
    "            # and summary nodes\n",
    "            _, c, summary = sess.run([optimizer, cost, merged_summary_op],\n",
    "                                     feed_dict={x: batch_xs, y: batch_ys})\n",
    "            # Write logs at every iteration\n",
    "            summary_writer.add_summary(summary, epoch * total_batch + i)\n",
    "            # Compute average loss\n",
    "            avg_cost += c / total_batch\n",
    "        # Display logs per epoch step\n",
    "        if (epoch+1) % display_step == 0:\n",
    "            print(\"Epoch: \", '%02d' % (epoch+1), \"  =====> Loss=\", \"{:.9f}\".format(avg_cost))\n",
    "\n",
    "    print(\"Optimization Finished!\")\n",
    "    summary_writer.flush()\n",
    "\n",
    "    # Test model\n",
    "    # Calculate accuracy\n",
    "    print(\"Accuracy:\", acc.eval({x: mnist.test.images, y: mnist.test.labels}))"
   ]
  },
  {
   "cell_type": "markdown",
   "metadata": {},
   "source": [
    "<b> Part 2  </b>: Using Tensorboard, we can  now visualize the created graph, giving you an overview of your architecture and how all of the major components  are connected. You can also see and analyse the learning curves. \n",
    "\n",
    "To launch tensorBoard: \n",
    "- Open a Terminal and run the command line **\"tensorboard --logdir=lab_2/log_files/\"**\n",
    "- Click on \"Tensorboard web interface\" in Zoe  \n",
    "\n",
    "\n",
    "Enjoy It !! \n"
   ]
  },
  {
   "cell_type": "markdown",
   "metadata": {},
   "source": [
    "# Section 2 : The 99% MNIST Challenge !"
   ]
  },
  {
   "cell_type": "markdown",
   "metadata": {},
   "source": [
    "<b> Part 1 </b> : LeNet5 implementation"
   ]
  },
  {
   "cell_type": "markdown",
   "metadata": {},
   "source": [
    "You are now familar with **TensorFlow** and **TensorBoard**. In this section, you are to build, train and test the baseline [LeNet-5](http://yann.lecun.com/exdb/lenet/)  model for the MNIST digits recognition problem.  \n",
    "\n",
    "Then, you will make some optimizations to get more than 99% of accuracy.\n",
    "\n",
    "For more informations, have a look at this list of results: http://rodrigob.github.io/are_we_there_yet/build/classification_datasets_results.html"
   ]
  },
  {
   "cell_type": "markdown",
   "metadata": {},
   "source": [
    "\n",
    "<img src=\"lenet.png\" width=\"800\" height=\"600\" align=\"center\">\n",
    "\n",
    "\n",
    "\n",
    "\n",
    "\n",
    "The LeNet architecture takes a 28x28xC image as input, where C is the number of color channels. Since MNIST images are grayscale, C is 1 in this case.\n",
    "\n",
    "--------------------------\n",
    "**Layer 1 - Convolution (5x5):** The output shape should be 28x28x6. **Activation:** ReLU. **MaxPooling:** The output shape should be 14x14x6.\n",
    "\n",
    "**Layer 2 - Convolution (5x5):** The output shape should be 10x10x16. **Activation:** ReLU. **MaxPooling:** The output shape should be 5x5x16.\n",
    "\n",
    "**Flatten:** Flatten the output shape of the final pooling layer such that it's 1D instead of 3D.  You may need to use tf.reshape.\n",
    "\n",
    "**Layer 3 - Fully Connected:** This should have 120 outputs. **Activation:** ReLU.\n",
    "\n",
    "**Layer 4 - Fully Connected:** This should have 84 outputs. **Activation:** ReLU.\n",
    "\n",
    "**Layer 5 - Fully Connected:** This should have 10 outputs. **Activation:** softmax.\n"
   ]
  },
  {
   "cell_type": "markdown",
   "metadata": {},
   "source": [
    "<b> Question 2.1.1 </b>  Implement the Neural Network architecture described above.\n",
    "For that, your will use classes and functions from  https://www.tensorflow.org/api_docs/python/tf/nn. \n",
    "\n",
    "We give you some helper functions for weigths and bias initilization. Also you can refer to section 1. \n"
   ]
  },
  {
   "cell_type": "code",
   "execution_count": 3,
   "metadata": {},
   "outputs": [],
   "source": [
    "# Functions for weigths and bias initilization \n",
    "def weight_variable(shape):\n",
    "  initial = tf.truncated_normal(shape, stddev=0.1)\n",
    "  return tf.Variable(initial)\n",
    "\n",
    "def bias_variable(shape):\n",
    "  initial = tf.constant(0., shape=shape)\n",
    "  return tf.Variable(initial)\n"
   ]
  },
  {
   "cell_type": "code",
   "execution_count": 4,
   "metadata": {},
   "outputs": [],
   "source": [
    "def LeNet5_Model(image, keep_probability=1., dense_keep_probability=1., batch_size=-1):    \n",
    "    # Input Layer\n",
    "    input_layer = tf.reshape(image, [batch_size, 28, 28, 1])\n",
    "\n",
    "    # Convolutional layer #1\n",
    "    conv1 = tf.nn.conv2d(\n",
    "        input=input_layer,\n",
    "        filter=weight_variable((5, 5, 1, 6)), # height, width, in_channels, out_channels\n",
    "        strides=[1, 1, 1, 1],\n",
    "        padding='SAME',\n",
    "        name='conv1'\n",
    "    )\n",
    "    conv1 = tf.nn.relu(conv1 + bias_variable([1, 28, 28, 6]))\n",
    "    mpool1 = tf.nn.max_pool(\n",
    "        value=conv1, \n",
    "        ksize=[1, 2, 2, 1], \n",
    "        strides=[1, 2, 2, 1],\n",
    "        padding='VALID', # No padding\n",
    "        name='mpool1'\n",
    "    )\n",
    "    \n",
    "    # Convolutional layer #2\n",
    "    conv2 = tf.nn.conv2d(\n",
    "        input=mpool1,\n",
    "        filter=weight_variable((5, 5, 6, 16)), # height, width, in_channels, out_channels\n",
    "        strides=[1, 1, 1, 1],\n",
    "        padding='VALID', # No padding\n",
    "        name='conv2'\n",
    "    )\n",
    "    conv2 = tf.nn.relu(conv2 + bias_variable([1, 10, 10, 16]))\n",
    "    mpool2 = tf.nn.max_pool(\n",
    "        value=conv2, \n",
    "        ksize=[1, 2, 2, 1], \n",
    "        strides=[1, 2, 2, 1],\n",
    "        padding='VALID', # No padding\n",
    "        name='mpool2'\n",
    "    )\n",
    "    \n",
    "    # Flatten layer\n",
    "    flat = flatten(mpool2)\n",
    "    flat = tf.nn.dropout(\n",
    "        x=flat,\n",
    "        keep_prob=keep_probability\n",
    "    )\n",
    "    \n",
    "    # Fully Connected with 120 neurons\n",
    "    dense1 = tf.layers.dense(\n",
    "        inputs=flat,\n",
    "        units=120,\n",
    "        activation=tf.nn.relu,\n",
    "        use_bias=True,\n",
    "        bias_initializer=tf.constant_initializer(value=1.0),\n",
    "        name='dense1'\n",
    "    )\n",
    "    dense1 = tf.nn.dropout(\n",
    "        x=dense1,\n",
    "        keep_prob=dense_keep_probability,\n",
    "        name='dense_dropout1'\n",
    "    )\n",
    "    \n",
    "    # Fully Connected with 84 neurons\n",
    "    dense2 = tf.layers.dense(\n",
    "        inputs=dense1,\n",
    "        units=84,\n",
    "        activation=tf.nn.relu,\n",
    "        use_bias=True,\n",
    "        bias_initializer=tf.constant_initializer(value=1.0),\n",
    "        name='dense2'\n",
    "    )\n",
    "    dense2 = tf.nn.dropout(\n",
    "        x=dense2,\n",
    "        keep_prob=dense_keep_probability,\n",
    "        name='dense_dropout2'\n",
    "    )\n",
    "    \n",
    "    # Fully Connected with 10 neurons\n",
    "    dense3 = tf.layers.dense(\n",
    "        inputs=dense2,\n",
    "        units=10,\n",
    "        activation=tf.nn.softmax,\n",
    "        use_bias=True,\n",
    "        bias_initializer=tf.constant_initializer(value=1.0),\n",
    "        name='dense3'\n",
    "    )\n",
    "    \n",
    "    \n",
    "    return dense3"
   ]
  },
  {
   "cell_type": "markdown",
   "metadata": {},
   "source": [
    "<b> Question 2.1.2. </b>  Calculate the number of parameters of this model "
   ]
  },
  {
   "cell_type": "code",
   "execution_count": 5,
   "metadata": {},
   "outputs": [
    {
     "name": "stdout",
     "output_type": "stream",
     "text": [
      "Number of parameters:  59331\n"
     ]
    }
   ],
   "source": [
    "# Parameters for the first convolutional layer\n",
    "conv1 = 5*5*1 \n",
    "# Parameters for the second convolutional layer\n",
    "conv2 = 5*5*6  \n",
    "# Parameters for the first dense layer\n",
    "dense1 = 5*5*16*120 \n",
    "# Parameters for the second dense layer\n",
    "dense2 = 120*84  \n",
    "# Parameters for the first output layer\n",
    "dense3 = 84*10 \n",
    "# All the biases\n",
    "bias = 6 + 16 + 120 + 84 + 10 \n",
    "\n",
    "total = bias + dense1 + dense2 + dense3 + conv2 + conv1\n",
    "print('Number of parameters: ', total)"
   ]
  },
  {
   "cell_type": "markdown",
   "metadata": {},
   "source": [
    "<b> Question 2.1.3. </b>  Define your model, its accuracy and the loss function according to the following parameters (you can look at Section 1 to see what is expected):\n",
    "\n",
    "     Learning rate: 0.001\n",
    "     Loss Fucntion: Cross-entropy\n",
    "     Optimizer: tf.train.GradientDescentOptimizer\n",
    "     Number of epochs: 40\n",
    "     Batch size: 128"
   ]
  },
  {
   "cell_type": "code",
   "execution_count": 6,
   "metadata": {},
   "outputs": [],
   "source": [
    "tf.reset_default_graph() # reset the default graph before defining a new model\n",
    "\n",
    "# Parameters\n",
    "learning_rate = 0.001\n",
    "training_epochs = 40\n",
    "batch_size = 128\n",
    "logs_path = 'log_files/'"
   ]
  },
  {
   "cell_type": "markdown",
   "metadata": {},
   "source": [
    "<b> Question 2.1.4. </b>  Implement the evaluation function for accuracy computation "
   ]
  },
  {
   "cell_type": "code",
   "execution_count": 7,
   "metadata": {},
   "outputs": [],
   "source": [
    "def evaluate(logits, labels):\n",
    "    # logits will be the outputs of your model, labels will be one-hot vectors corresponding to the actual labels\n",
    "    # logits and labels are numpy arrays\n",
    "    # this function should return the accuracy of your model\n",
    "    equals = tf.equal(tf.argmax(logits, axis=1), tf.argmax(labels, axis=1))\n",
    "    return tf.reduce_mean(tf.cast(equals, tf.float32))"
   ]
  },
  {
   "cell_type": "markdown",
   "metadata": {},
   "source": [
    "<b> Question 2.1.5. </b>  Implement training pipeline and run the training data through it to train the model.\n",
    "\n",
    "- Before each epoch, shuffle the training set. \n",
    "- Print the loss per mini batch and the training/validation accuracy per epoch. (Display results every 100 epochs)\n",
    "- Save the model after training\n",
    "- Print after training the final testing accuracy \n",
    "\n"
   ]
  },
  {
   "cell_type": "code",
   "execution_count": 8,
   "metadata": {},
   "outputs": [],
   "source": [
    "import time \n",
    "\n",
    "def train(learning_rate, training_epochs, batch_size, display_step = 1, \\\n",
    "          logs_path=logs_path, optFunction=\"SGD\", keep_probability=1.0, dense_keep_probability=1.0, verbose=True, ):\n",
    "    \n",
    "    optFunctions = {\"SGD\":tf.train.GradientDescentOptimizer, \"Adam\":tf.train.AdamOptimizer}\n",
    "    \n",
    "    # Erase previous graph\n",
    "    tf.reset_default_graph()\n",
    "\n",
    "    x = tf.placeholder(tf.float32, [None, 28, 28, 1], name='InputData')\n",
    "    y = tf.placeholder(tf.float32, [None, 10], name='LabelData')\n",
    "    keep_prob = tf.placeholder(tf.float32)\n",
    "\n",
    "    # Construct model\n",
    "    with tf.name_scope('Model'):\n",
    "        pred = LeNet5_Model(x, \n",
    "                    keep_probability=keep_probability, \n",
    "                    dense_keep_probability=dense_keep_probability)\n",
    "\n",
    "    with tf.name_scope('Loss'):\n",
    "        cost = tf.reduce_mean(-tf.reduce_sum(y*tf.log(pred), reduction_indices=1))\n",
    "\n",
    "    with tf.name_scope(optFunction):\n",
    "        opt = optFunctions[optFunction](learning_rate)\n",
    "        gvs = opt.compute_gradients(cost)\n",
    "        capped_gvs = [(tf.clip_by_value(grad, -1., 1.), var) for grad, var in gvs]\n",
    "        optimizer = opt.apply_gradients(capped_gvs)\n",
    "\n",
    "    # Evaluate model\n",
    "    with tf.name_scope('Accuracy'):\n",
    "        accuracy = evaluate(pred, y)\n",
    "\n",
    "    # Initializing the variables\n",
    "    init = tf.global_variables_initializer()\n",
    "\n",
    "    # Create a summary to monitor cost tensor\n",
    "    tf.summary.scalar(\"Loss\", cost)\n",
    "    # Create a summary to monitor accuracy tensor\n",
    "    tf.summary.scalar(\"Accuracy\", accuracy)\n",
    "    # Merge all summaries into a single op\n",
    "    merged_summary_op = tf.summary.merge_all()\n",
    "\n",
    "    x_val, y_val = mnist.validation.images.reshape(-1, 28, 28, 1), mnist.validation.labels\n",
    "    x_test, y_test = mnist.test.images.reshape(-1, 28, 28, 1), mnist.test.labels\n",
    "\n",
    "    with tf.Session() as sess:\n",
    "        sess.run(init)\n",
    "        # op to write logs to Tensorboard\n",
    "        summary_writer = tf.summary.FileWriter(logs_path, graph=tf.get_default_graph())\n",
    "        saver = tf.train.Saver()\n",
    "        # Training cycle\n",
    "        start_time = time.time()\n",
    "        for epoch in range(training_epochs):\n",
    "            avg_cost = 0.\n",
    "            total_batch = int(mnist.train.num_examples/batch_size)\n",
    "            # Loop over all batches\n",
    "            for i in range(total_batch):\n",
    "                # Shuffle input only in the first iteration of the batch\n",
    "                batch_xs, batch_ys = mnist.train.next_batch(batch_size, shuffle =(i == 0))\n",
    "                batch_xs = batch_xs.reshape(-1, 28, 28, 1)\n",
    "                # Run optimization op (backprop), cost op (to get loss value)\n",
    "                # and summary nodes\n",
    "                _, c, summary = sess.run([optimizer, cost, merged_summary_op],\n",
    "                                         feed_dict={x: batch_xs, y: batch_ys, keep_prob: keep_probability})\n",
    "                # Write logs at every iteration\n",
    "                summary_writer.add_summary(summary, epoch * total_batch + i)\n",
    "                # Compute average loss\n",
    "                avg_cost += c / total_batch\n",
    "            # Display logs per epoch step\n",
    "            #train_acc = accuracy.eval({x: batch_xs, y:batch_ys})\n",
    "            val_acc = accuracy.eval({x: x_val, y:y_val, keep_prob:keep_probability})\n",
    "            test_acc = accuracy.eval({x: x_test, y:y_test, keep_prob:keep_probability})\n",
    "\n",
    "            if verbose is True and (epoch+1) % display_step == 0:\n",
    "                print(\"Epoch: \", '%02d' % (epoch+1), \\\n",
    "                      \"  =====> Loss=\", \"{:.9f}\".format(avg_cost), \\\n",
    "                      \" Validation accuracy=\", val_acc, \" Test accuracy=\", test_acc)\n",
    "            if test_acc >= 0.99:\n",
    "                if verbose is True:\n",
    "                    print(\"Test Accuracy over 99%% reached after %d epochs\" %(epoch+1))\n",
    "                break\n",
    "        end_time = time.time()\n",
    "        elapsed_time = end_time - start_time \n",
    "        saver.save(sess, 'Models/model_' + str(learning_rate) + '_' + str(batch_size) + '_' + optFunction)\n",
    "        if verbose is True:\n",
    "            print(\"Training Finished!\")\n",
    "            # Test model and calculate accuracy\n",
    "            print(\"Test accuracy:\", accuracy.eval({x: x_test, y:y_test, keep_prob: keep_probability}))\n",
    "            print(\"Elapsed time: \", elapsed_time, \"sec\")\n"
   ]
  },
  {
   "cell_type": "code",
   "execution_count": 9,
   "metadata": {},
   "outputs": [
    {
     "name": "stdout",
     "output_type": "stream",
     "text": [
      "Epoch:  05   =====> Loss= 0.604889131  Validation accuracy= 0.8694  Test accuracy= 0.8705\n",
      "Epoch:  10   =====> Loss= 0.330030155  Validation accuracy= 0.918  Test accuracy= 0.9161\n",
      "Epoch:  15   =====> Loss= 0.255773544  Validation accuracy= 0.935  Test accuracy= 0.9341\n",
      "Epoch:  20   =====> Loss= 0.213853497  Validation accuracy= 0.9428  Test accuracy= 0.9433\n",
      "Epoch:  25   =====> Loss= 0.184961832  Validation accuracy= 0.949  Test accuracy= 0.9502\n",
      "Epoch:  30   =====> Loss= 0.163537280  Validation accuracy= 0.957  Test accuracy= 0.9562\n",
      "Epoch:  35   =====> Loss= 0.146653618  Validation accuracy= 0.9604  Test accuracy= 0.9596\n",
      "Epoch:  40   =====> Loss= 0.133313967  Validation accuracy= 0.966  Test accuracy= 0.9632\n",
      "Training Finished!\n",
      "Test accuracy: 0.9632\n",
      "Elapsed time:  672.5316023826599 sec\n"
     ]
    }
   ],
   "source": [
    "train(learning_rate, training_epochs, batch_size, display_step=5)"
   ]
  },
  {
   "cell_type": "markdown",
   "metadata": {},
   "source": [
    "<b> Question 2.1.6 </b> : Use TensorBoard to visualise and save loss and accuracy curves. \n",
    "You will save figures in the folder **\"lab_2/MNIST_figures\"** and display them in your notebook."
   ]
  },
  {
   "cell_type": "markdown",
   "metadata": {},
   "source": [
    "<img src=\"MNIST_figures/accuracy.png\" width=\"800\" height=\"600\" align=\"center\">"
   ]
  },
  {
   "cell_type": "markdown",
   "metadata": {},
   "source": [
    "<img src=\"MNIST_figures/loss.png\" width=\"800\" height=\"600\" align=\"center\">"
   ]
  },
  {
   "cell_type": "markdown",
   "metadata": {},
   "source": [
    "<b> Part 2 </b> : LeNET 5 Optimization"
   ]
  },
  {
   "cell_type": "markdown",
   "metadata": {},
   "source": [
    "\n",
    "<b> Question 2.2.1 </b>\n",
    "\n",
    "- Retrain your network with AdamOptimizer and then fill the table above:\n",
    "\n",
    "\n",
    "| Optimizer            |  Gradient Descent  |    AdamOptimizer    |\n",
    "|----------------------|--------------------|---------------------|\n",
    "| Testing Accuracy     |        96,32%      |        99,09%       |       \n",
    "| Training Time        |       11,20 mins   |       5,46 mins     |  \n",
    "\n",
    "- Which optimizer gives the best accuracy on test data?\n",
    "\n",
    "**Your answer:** The table above shows that AdamOptimizer gives the best result. It reaches 99% accuracy in 5,46 mins while using Gradient Descent we reached 96,32% in 11,20 mins.\n"
   ]
  },
  {
   "cell_type": "code",
   "execution_count": 10,
   "metadata": {},
   "outputs": [
    {
     "name": "stdout",
     "output_type": "stream",
     "text": [
      "Epoch:  01   =====> Loss= 0.310434482  Validation accuracy= 0.9774  Test accuracy= 0.9733\n",
      "Epoch:  02   =====> Loss= 0.071436997  Validation accuracy= 0.9806  Test accuracy= 0.9776\n",
      "Epoch:  03   =====> Loss= 0.049268089  Validation accuracy= 0.9854  Test accuracy= 0.983\n",
      "Epoch:  04   =====> Loss= 0.038085153  Validation accuracy= 0.985  Test accuracy= 0.9848\n",
      "Epoch:  05   =====> Loss= 0.030567726  Validation accuracy= 0.9838  Test accuracy= 0.985\n",
      "Epoch:  06   =====> Loss= 0.024459270  Validation accuracy= 0.9864  Test accuracy= 0.9869\n",
      "Epoch:  07   =====> Loss= 0.018488267  Validation accuracy= 0.985  Test accuracy= 0.9843\n",
      "Epoch:  08   =====> Loss= 0.015350795  Validation accuracy= 0.9888  Test accuracy= 0.988\n",
      "Epoch:  09   =====> Loss= 0.013342386  Validation accuracy= 0.988  Test accuracy= 0.9867\n",
      "Epoch:  10   =====> Loss= 0.013449900  Validation accuracy= 0.9866  Test accuracy= 0.9872\n",
      "Epoch:  11   =====> Loss= 0.011783514  Validation accuracy= 0.9848  Test accuracy= 0.983\n",
      "Epoch:  12   =====> Loss= 0.011322825  Validation accuracy= 0.9854  Test accuracy= 0.9869\n",
      "Epoch:  13   =====> Loss= 0.009010353  Validation accuracy= 0.9884  Test accuracy= 0.9878\n",
      "Epoch:  14   =====> Loss= 0.007663483  Validation accuracy= 0.9832  Test accuracy= 0.982\n",
      "Epoch:  15   =====> Loss= 0.007597194  Validation accuracy= 0.9872  Test accuracy= 0.9878\n",
      "Epoch:  16   =====> Loss= 0.009555310  Validation accuracy= 0.9866  Test accuracy= 0.9861\n",
      "Epoch:  17   =====> Loss= 0.007547940  Validation accuracy= 0.99  Test accuracy= 0.9878\n",
      "Epoch:  18   =====> Loss= 0.004334476  Validation accuracy= 0.99  Test accuracy= 0.9878\n",
      "Epoch:  19   =====> Loss= 0.007106648  Validation accuracy= 0.9906  Test accuracy= 0.9909\n",
      "Test Accuracy over 99% reached after 19 epochs\n",
      "Training Finished!\n",
      "Test accuracy: 0.9909\n",
      "Elapsed time:  327.67936396598816 sec\n"
     ]
    }
   ],
   "source": [
    "tf.reset_default_graph()\n",
    "# your implementation goes here\n",
    "train(learning_rate, training_epochs, batch_size, optFunction=\"Adam\")"
   ]
  },
  {
   "cell_type": "markdown",
   "metadata": {},
   "source": [
    "<b> Question 2.2.2</b> Try to add dropout (keep_prob = 0.75) before the first fully connected layer. You will use tf.nn.dropout for that purpose. What accuracy do you achieve on testing data?\n",
    "\n",
    "**Accuracy achieved on testing data:** ..."
   ]
  },
  {
   "cell_type": "code",
   "execution_count": 11,
   "metadata": {},
   "outputs": [
    {
     "name": "stdout",
     "output_type": "stream",
     "text": [
      "Epoch:  05   =====> Loss= 0.053087217  Validation accuracy= 0.981  Test accuracy= 0.9795\n",
      "Epoch:  10   =====> Loss= 0.032998348  Validation accuracy= 0.987  Test accuracy= 0.9856\n",
      "Epoch:  15   =====> Loss= 0.021739657  Validation accuracy= 0.9864  Test accuracy= 0.9851\n",
      "Epoch:  20   =====> Loss= 0.018219566  Validation accuracy= 0.9844  Test accuracy= 0.9851\n",
      "Epoch:  25   =====> Loss= 0.014574020  Validation accuracy= 0.9878  Test accuracy= 0.9881\n",
      "Epoch:  30   =====> Loss= 0.011885594  Validation accuracy= 0.9888  Test accuracy= 0.9892\n",
      "Epoch:  35   =====> Loss= 0.009867116  Validation accuracy= 0.9864  Test accuracy= 0.988\n",
      "Test Accuracy over 99% reached after 36 epochs\n",
      "Training Finished!\n",
      "Test accuracy: 0.9891\n",
      "Elapsed time:  620.7855067253113 sec\n"
     ]
    }
   ],
   "source": [
    "tf.reset_default_graph()\n",
    "# your implementation goes here\n",
    "train(learning_rate, training_epochs, batch_size, optFunction=\"Adam\", display_step=5, keep_probability= 0.75 )"
   ]
  }
 ],
 "metadata": {
  "anaconda-cloud": {},
  "kernelspec": {
   "display_name": "Python 3",
   "language": "python",
   "name": "python3"
  },
  "language_info": {
   "codemirror_mode": {
    "name": "ipython",
    "version": 3
   },
   "file_extension": ".py",
   "mimetype": "text/x-python",
   "name": "python",
   "nbconvert_exporter": "python",
   "pygments_lexer": "ipython3",
   "version": "3.5.2"
  },
  "widgets": {
   "state": {},
   "version": "1.1.2"
  }
 },
 "nbformat": 4,
 "nbformat_minor": 2
}
